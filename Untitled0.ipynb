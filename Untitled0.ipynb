{
  "nbformat": 4,
  "nbformat_minor": 0,
  "metadata": {
    "colab": {
      "provenance": [],
      "authorship_tag": "ABX9TyOyONOVoYuyTHBDmDDZ1vWz",
      "include_colab_link": true
    },
    "kernelspec": {
      "name": "python3",
      "display_name": "Python 3"
    },
    "language_info": {
      "name": "python"
    }
  },
  "cells": [
    {
      "cell_type": "markdown",
      "metadata": {
        "id": "view-in-github",
        "colab_type": "text"
      },
      "source": [
        "<a href=\"https://colab.research.google.com/github/ivanRamiro05/Ciudad-a-y-b/blob/main/Untitled0.ipynb\" target=\"_parent\"><img src=\"https://colab.research.google.com/assets/colab-badge.svg\" alt=\"Open In Colab\"/></a>"
      ]
    },
    {
      "cell_type": "markdown",
      "source": [
        "# VECTORES"
      ],
      "metadata": {
        "id": "j8NrI1nrz4rS"
      }
    },
    {
      "cell_type": "code",
      "source": [
        "# Ejercicio N1: Vector con numeros aleatorios\n",
        "import random\n",
        "\n",
        "print (\"Vector numeros aleatorios\")\n",
        "x=[None]*10\n",
        "for i in range (10):\n",
        "  x[i] = random.random()\n",
        "  print(x[i])\n"
      ],
      "metadata": {
        "id": "20fa907s0GG-"
      },
      "execution_count": null,
      "outputs": []
    },
    {
      "cell_type": "code",
      "source": [
        "# Ejercicio N2: Suma de los elementos de un vector \n",
        "\n",
        "suma =0\n",
        "vector = [None]*5\n",
        "for i in range (5):\n",
        "  a=int (input(\"Dame un elemento: \"))\n",
        "  vector[i]= a\n",
        "  suma =suma + vector[i]\n",
        "print (\"la suma de los elementos del vector es \", suma)"
      ],
      "metadata": {
        "colab": {
          "base_uri": "https://localhost:8080/"
        },
        "id": "8zl_xf6c2mAf",
        "outputId": "71206651-c4bc-48ca-b76f-f2b6cdd665b0"
      },
      "execution_count": null,
      "outputs": [
        {
          "output_type": "stream",
          "name": "stdout",
          "text": [
            "Dame un elemento: 1\n",
            "Dame un elemento: 2\n",
            "Dame un elemento: 3\n",
            "Dame un elemento: 4\n",
            "Dame un elemento: 56\n",
            "la suma de los elementos del vector es  66\n"
          ]
        }
      ]
    },
    {
      "cell_type": "markdown",
      "source": [
        "una empresa tiene 250 empleados, por cada uno de ellos tenemos un registro que trae grabados 2 datos , el nombre del empleados y su correspondiente salario mensual. Hacer el diagrama de flujo y programa en python que averigue e imprima, cuantos empleados ganan mas del promedio salarial de la empresa.\n"
      ],
      "metadata": {
        "id": "dwevIZCw4EgG"
      }
    },
    {
      "cell_type": "code",
      "source": [
        "print (\"Empresas Col\")\n",
        "print (\"Bienvenido a empresas Col debes mostrar cual es tu salario mensual para realizar un testeo\")\n",
        "salario = 1000000\n",
        "nombres=[None]*3\n",
        "salarios=[None]*3\n",
        "a=0\n",
        "def personal (nombres,salarios):\n",
        " if salarios>salario:\n",
        "   a= a+1\n",
        "for i in range (1,4):\n",
        " nombre=str(input(\"cual es tu nombre: \"))\n",
        " salario = int(input(\"¿Cuál es tú salario minimo mensual: \"))\n",
        " nombres= nombres + nombre,\",\"\n",
        " salarios =salarios + salario\n",
        " personal (salarios,nombres)\n",
        " if \n",
        "\n",
        "\n"
      ],
      "metadata": {
        "id": "Vu0STX5K4n5C"
      },
      "execution_count": null,
      "outputs": []
    },
    {
      "cell_type": "markdown",
      "source": [
        "hacer el diagrama de flujo y programa en python que lea unvector A de n elementos, y que averigue e imprima cual es el mayor y en que posicion se encuentran, y cual es el menor y en que posicion se encuentran. "
      ],
      "metadata": {
        "id": "PxzT2S_9_G99"
      }
    },
    {
      "cell_type": "code",
      "source": [
        "lista=[]\n",
        "N=0\n",
        "mayor=-10**100\n",
        "menor =10000000000000000000000000000000\n",
        "for i in range (5):\n",
        " a = int(input(\"ingresa un numero: \"))\n",
        " lista=lista + [a]\n",
        " if a> mayor:\n",
        "   mayor=a\n",
        " if a<menor:\n",
        "   menor =a\n",
        "print(lista)\n",
        "print(\"El mayor de estos numeros es : \",mayor )\n",
        "print(\"El menor de estos numeros es : \", menor)\n",
        " "
      ],
      "metadata": {
        "id": "gS2H2XSn_x-W",
        "colab": {
          "base_uri": "https://localhost:8080/"
        },
        "outputId": "35e51a48-518a-44d4-afc4-dcb386f3b5b9"
      },
      "execution_count": 6,
      "outputs": [
        {
          "output_type": "stream",
          "name": "stdout",
          "text": [
            "ingresa un numero: 1\n",
            "ingresa un numero: 2\n",
            "ingresa un numero: 3\n",
            "ingresa un numero: 4\n",
            "ingresa un numero: 5\n",
            "[1, 2, 3, 4, 5]\n",
            "El mayor de estos numeros es :  5\n",
            "El menor de estos numeros es :  1\n"
          ]
        }
      ]
    },
    {
      "cell_type": "code",
      "source": [
        "# calcuar magnitud o norma euclidiana de un vector"
      ],
      "metadata": {
        "id": "DcumMJkSFUn2"
      },
      "execution_count": null,
      "outputs": []
    },
    {
      "cell_type": "code",
      "source": [
        "print(\"como clacular la norma euclidiana de un vector\")\n",
        "suma=0\n",
        "for i in range (5):\n",
        "\n",
        " X=int(input(\"cual es el valor del vector en X: \"))\n",
        " Y=int(input(\"cual es el valor del vector en Y: \"))\n",
        "# processing\n",
        " H=(X**2+Y**2)**1/2\n",
        " suma =suma + H\n",
        "print(\"El valor de la norma euclidiana del  vector es :\",suma)"
      ],
      "metadata": {
        "id": "IzNCgVtbSNEI"
      },
      "execution_count": null,
      "outputs": []
    },
    {
      "cell_type": "code",
      "source": [
        "# calcular el producto escalar de 2 vectores"
      ],
      "metadata": {
        "id": "KpdwGBeIFd12"
      },
      "execution_count": 1,
      "outputs": []
    },
    {
      "cell_type": "code",
      "source": [
        "print(\"producto escalar entre 2 vectores\")\n",
        "X1=int(input(\"Ingrese el valor de x del primer vector: \"))\n",
        "Y1=int(input(\"Ingrese el valor de y del primer vector: \"))\n",
        "X2=int(input(\"Ingrese el valor de x del segundo vector: \"))\n",
        "Y2=int(input(\"Ingrese el valor de y del segundo vector: \"))\n",
        "producto_escalar =X1*X2 +Y1*Y2\n",
        "print(\"El producto escalar de estos vectores es: \",producto_escalar)"
      ],
      "metadata": {
        "id": "k1l4hm9fWFvP"
      },
      "execution_count": null,
      "outputs": []
    },
    {
      "cell_type": "code",
      "source": [],
      "metadata": {
        "id": "rfzu3B4HtaUs"
      },
      "execution_count": null,
      "outputs": []
    }
  ]
}